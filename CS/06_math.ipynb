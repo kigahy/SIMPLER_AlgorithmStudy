{
 "cells": [
  {
   "attachments": {
    "image-2.png": {
     "image/png": "[encoded data removed]"
    },
    "image-4.png": {
     "image/png": "[encoded data removed]"
    },
    "image-5.png": {
     "image/png": "[encoded data removed]"
    },
    "image.png": {
     "image/png": "[encoded data removed]"
    }
   },
   "cell_type": "markdown",
   "metadata": {},
   "source": [
    "# 수학\n",
    "## 이진수\n",
    "\n",
    "컴퓨터는 이진법으로 생각함 ex) 01010100000\n",
    "\n",
    "우리는 실생활에서 십진법으로 생활함 ex) 123456789056\n",
    "\n",
    "- 이진수 : 이진법에서 쓰는 숫자\n",
    "- 이진수를 나타내는 표기법\n",
    "\n",
    "    ![image-2.png](attachment:image-2.png)\n",
    "    ![image.png](attachment:image.png)\n",
    "\n",
    "    <왼쪽 사진 이진수, 십진수 명확하게 알 수 없음>\n",
    "    \n",
    "    <오른쪽 사진 처럼 표기하여 이진수임을 나타냄>\n",
    "\n",
    "- 진법 : 숫자를 표현하고 저장하는 규칙\n",
    "- 비트 : 이진법의 숫자, Binary Digit의 약자 (Bit)\n",
    "- 밑수 : 그 진법에서 사용하는 숫자의 개수 ex) 이진법의 밑수는 2개\n",
    "\n",
    "개발자는 16개의 숫자를 사용하는 16진법 사용\n",
    "\n",
    "- 자릿값 : 여러 개로 구성된 숫자의 위치를 나타내는 개념 \n",
    "\n",
    "    ![image-4.png](attachment:image-4.png)\n",
    "\n",
    "    (1 * 10\\*\\*3) + (4 * 10\\*\\*2) + (5 * 10\\*\\*1) + (2 * 10\\*\\*0) = 1452\n",
    "\n",
    "    ![image-5.png](attachment:image-5.png)\n",
    "\n",
    "    (1 * 2\\*\\*3) + (1 * 2\\*\\*2) + (0 * 2\\*\\*1) + (1 * 2\\*\\*0) = 13\n",
    "\n",
    "<br/>\n",
    "\n",
    "**@@@ 퀴즈 @@@**\n",
    "\n",
    "숫자 5는 이진법으로 어떻게 표현할까요?\n",
    "\n",
    "<br/>\n",
    "\n",
    "## 비트 연산자   \n",
    "### bin() \n",
    "\n",
    "이진수로 변환하는 함수"
   ]
  },
  {
   "cell_type": "code",
   "execution_count": 2,
   "metadata": {},
   "outputs": [
    {
     "name": "stdout",
     "output_type": "stream",
     "text": [
      "0b10000\n"
     ]
    }
   ],
   "source": [
    "print(bin(16))"
   ]
  },
  {
   "cell_type": "markdown",
   "metadata": {},
   "source": [
    "**0b**10000\n",
    "\n",
    "0b는 이 숫자가 이진수임을 나타내는 표시\n",
    "16은 이진수로 10000\n",
    "\n",
    "### 논리 연산자\n",
    "- and  \n",
    "\n",
    "  양쪽 값이 모두 True 이면 True 반환, 그렇지 않으면 False 반환\n",
    "\n",
    "- or\n",
    "\n",
    "  양쪽 값 모두 False 이면 False 반환, 그렇지 않으면 True 반환"
   ]
  },
  {
   "cell_type": "markdown",
   "metadata": {},
   "source": [
    "### 비트 연산자\n",
    "\n",
    "- & \n",
    "  \n",
    "  (논리 연산자 and와 기능 동일 but 비트로 연산함)"
   ]
  },
  {
   "cell_type": "code",
   "execution_count": 5,
   "metadata": {},
   "outputs": [
    {
     "name": "stdout",
     "output_type": "stream",
     "text": [
      "2\n",
      "2\n"
     ]
    }
   ],
   "source": [
    "print(0b10 & 0b11)  \n",
    "\n",
    "#  10      1 & 1 => true (1)\n",
    "#  11      0 & 1 => false (0)\n",
    "#  --\n",
    "#  10      10은 십진법으로 2\n",
    "\n",
    "print(2 & 3) # 십진수에도 사용가능"
   ]
  },
  {
   "cell_type": "markdown",
   "metadata": {},
   "source": [
    "- |\n",
    "\n",
    "  (논리 연산자 or와 기능 동일 but 비트로 연산함)"
   ]
  },
  {
   "cell_type": "code",
   "execution_count": 6,
   "metadata": {},
   "outputs": [
    {
     "name": "stdout",
     "output_type": "stream",
     "text": [
      "3\n",
      "3\n"
     ]
    }
   ],
   "source": [
    "print(0b10 | 0b11)\n",
    "\n",
    "#  10    1 | 1 => true (1)\n",
    "#  11    0 | 1 => true (1)\n",
    "#  --\n",
    "#  11     11은 십진법으로 3\n",
    "\n",
    "print(2 | 3) # 십진수에도 사용가능"
   ]
  },
  {
   "cell_type": "markdown",
   "metadata": {},
   "source": [
    "### 비트 연산자가 유용한 상황\n",
    "\n",
    "- 비트 & 연산자 사용시 주어진 숫자가 짝수인지 홀수인지 판단 가능\n",
    "  - 짝수를 이진법으로 표현하면 항상 0으로 끝나고, 홀수는 항상 1로 끝남"
   ]
  },
  {
   "cell_type": "code",
   "execution_count": 7,
   "metadata": {},
   "outputs": [
    {
     "name": "stdout",
     "output_type": "stream",
     "text": [
      "False\n"
     ]
    }
   ],
   "source": [
    "def is_even(n):\n",
    "    return not n & 1    # n과 1을 비트연산자 & 사용하여 홀수인지 짝수인지 판단\n",
    "                        # 1 (True) 이므로 짝수이어야 True 반환\n",
    "\n",
    "print(is_even(5))"
   ]
  },
  {
   "cell_type": "markdown",
   "metadata": {},
   "source": [
    "- 어떤 정수가 2의 거듭제곱인지 판단 가능\n",
    "  - 2의 거듭제곱은 이진법으로 나타내었을 때 : 10000 100 10 이런식\n",
    "  \n",
    "  예시 : 8 (0b1000) & 7 (0b0111) => 0000\n"
   ]
  },
  {
   "cell_type": "code",
   "execution_count": 8,
   "metadata": {},
   "outputs": [
    {
     "name": "stdout",
     "output_type": "stream",
     "text": [
      "True\n"
     ]
    }
   ],
   "source": [
    "def is_power(n):\n",
    "    if n & (n - 1) == 0:\n",
    "        return True\n",
    "    return False\n",
    "\n",
    "print(is_power(8))"
   ]
  },
  {
   "cell_type": "markdown",
   "metadata": {},
   "source": [
    "## 피즈버그\n",
    "\n",
    "만약 1부터 100까지의 숫자를 출력하는 프로그램을 만든다면..\n",
    "\n",
    "1. 3의 배수라면 숫자 대신 Fizz 출력\n",
    "2. 5의 배수라면 Buzz 출력\n",
    "3. 3과 5의 공배수라면 FizzBuzz 출력\n",
    "\n",
    "**핵심은 나머지 연산자!**\n",
    "\n",
    "두 값을 나눈 나머지를 반환 하는 것\n",
    "\n",
    "예시 : 6 % 3 == 0 -> 나머지가 0이면 6은 3의 배수라고 알 수 있음\n",
    "\n",
    "> 1부터 100까지의 숫자를 거치며 각각의 숫자가 나머지 연산을 통해 3과 5의 공배수인지, 3의 배수인지, 5의 배수인지 확인"
   ]
  },
  {
   "cell_type": "code",
   "execution_count": 9,
   "metadata": {},
   "outputs": [
    {
     "name": "stdout",
     "output_type": "stream",
     "text": [
      "1\n",
      "2\n",
      "Fizz\n",
      "4\n",
      "Buzz\n",
      "Fizz\n",
      "7\n",
      "8\n",
      "Fizz\n",
      "Buzz\n",
      "11\n",
      "Fizz\n",
      "13\n",
      "14\n",
      "FizzBuzz\n",
      "16\n",
      "17\n",
      "Fizz\n",
      "19\n",
      "Buzz\n",
      "Fizz\n",
      "22\n",
      "23\n",
      "Fizz\n",
      "Buzz\n",
      "26\n",
      "Fizz\n",
      "28\n",
      "29\n",
      "FizzBuzz\n"
     ]
    }
   ],
   "source": [
    "def fizzbuzz(n):  # 1부터 n까지의 숫자 입력 받는 함수\n",
    "    for i in range(1, n + 1):\n",
    "        if i % 3 == 0 and i % 5 == 0:  # 3과 5의 공배수\n",
    "            print('FizzBuzz')\n",
    "        elif i % 3 == 0:  # 3의 배수\n",
    "            print('Fizz')\n",
    "        elif i % 5 == 0:  # 5의 배수\n",
    "            print('Buzz')\n",
    "        else:  # 배수가 아니라면 그 숫자를 출력\n",
    "            print(i)\n",
    "\n",
    "\n",
    "fizzbuzz(30)"
   ]
  },
  {
   "cell_type": "markdown",
   "metadata": {},
   "source": [
    "## 최대공약수\n",
    "\n",
    "두 개 이상의 정수를 나누어떨어지게 하는 가장 큰 양의 정수\n",
    "\n",
    "- 20의 약수: 1, 2, 4, 5, 10\n",
    "- 12의 약수: 1, 2, 3, 4, 6\n",
    "\n",
    "두 숫자를 나머지 없이 나누어떨어지게 하는 모든 약수를 확인한다!\n",
    "\n",
    "-> 1부터 12까지 나눠보는 것...!"
   ]
  },
  {
   "cell_type": "code",
   "execution_count": 12,
   "metadata": {},
   "outputs": [
    {
     "name": "stdout",
     "output_type": "stream",
     "text": [
      "4\n",
      "None\n"
     ]
    }
   ],
   "source": [
    "def gcf(i1, i2):\n",
    "    gcf = None  \n",
    "    if i1 > i2:\n",
    "        smaller = i2   # 작은 수까지 차례대로 수 넣어서 나머지 0인 수 확인\n",
    "    else:\n",
    "        smaller = i1\n",
    "    for i in range(1, smaller + 1):\n",
    "        if i1 % i == 0 and i2 % i == 0:\n",
    "            gcf = i    # 공약수를 차례대로 계속 찾으면서 제일 큰 공약수를 gcf에 저장하게 됨\n",
    "    return gcf\n",
    "\n",
    "print(gcf(20, 12))\n",
    "print(gcf(0, 12))\n"
   ]
  },
  {
   "cell_type": "code",
   "execution_count": 13,
   "metadata": {},
   "outputs": [
    {
     "name": "stdout",
     "output_type": "stream",
     "text": [
      "12\n"
     ]
    }
   ],
   "source": [
    "# 만약 두 정수 중 하나가 0이라면, 최대공약수는 0이 아닌 다른 정수\n",
    "\n",
    "def gcf(i1, i2):\n",
    "    if i1 == 0:\n",
    "        return i2\n",
    "    if i2 == 0:\n",
    "        return i1\n",
    "    \n",
    "    if i1 > i2:\n",
    "        smaller = i2\n",
    "    else:\n",
    "        smaller = i1\n",
    "\n",
    "    for divisor in range(1, smaller + 1):\n",
    "        if(i1 % divisor == 0) and (i2 % divisor == 0):\n",
    "            gcf = divisor\n",
    "\n",
    "    return gcf\n",
    "    \n",
    "print(gcf(0, 12))"
   ]
  },
  {
   "cell_type": "code",
   "execution_count": 14,
   "metadata": {},
   "outputs": [
    {
     "ename": "ValueError",
     "evalue": "Numbers must be positive.",
     "output_type": "error",
     "traceback": [
      "\u001b[0;31m---------------------------------------------------------------------------\u001b[0m",
      "\u001b[0;31mValueError\u001b[0m                                Traceback (most recent call last)",
      "Cell \u001b[0;32mIn[14], line 23\u001b[0m\n\u001b[1;32m     19\u001b[0m             gcf \u001b[38;5;241m=\u001b[39m divisor\n\u001b[1;32m     21\u001b[0m     \u001b[38;5;28;01mreturn\u001b[39;00m gcf\n\u001b[0;32m---> 23\u001b[0m \u001b[38;5;28mprint\u001b[39m(\u001b[43mgcf\u001b[49m\u001b[43m(\u001b[49m\u001b[38;5;241;43m-\u001b[39;49m\u001b[38;5;241;43m3\u001b[39;49m\u001b[43m,\u001b[49m\u001b[43m \u001b[49m\u001b[38;5;241;43m12\u001b[39;49m\u001b[43m)\u001b[49m)\n",
      "Cell \u001b[0;32mIn[14], line 5\u001b[0m, in \u001b[0;36mgcf\u001b[0;34m(i1, i2)\u001b[0m\n\u001b[1;32m      3\u001b[0m \u001b[38;5;28;01mdef\u001b[39;00m \u001b[38;5;21mgcf\u001b[39m(i1, i2):\n\u001b[1;32m      4\u001b[0m     \u001b[38;5;28;01mif\u001b[39;00m i1 \u001b[38;5;241m<\u001b[39m \u001b[38;5;241m0\u001b[39m \u001b[38;5;129;01mor\u001b[39;00m i2 \u001b[38;5;241m<\u001b[39m \u001b[38;5;241m0\u001b[39m:\n\u001b[0;32m----> 5\u001b[0m         \u001b[38;5;28;01mraise\u001b[39;00m \u001b[38;5;167;01mValueError\u001b[39;00m(\u001b[38;5;124m\"\u001b[39m\u001b[38;5;124mNumbers must be positive.\u001b[39m\u001b[38;5;124m\"\u001b[39m)\n\u001b[1;32m      7\u001b[0m     \u001b[38;5;28;01mif\u001b[39;00m i1 \u001b[38;5;241m==\u001b[39m \u001b[38;5;241m0\u001b[39m:\n\u001b[1;32m      8\u001b[0m         \u001b[38;5;28;01mreturn\u001b[39;00m i2\n",
      "\u001b[0;31mValueError\u001b[0m: Numbers must be positive."
     ]
    }
   ],
   "source": [
    "# 두 정수가 모두 양수인지 확인하는 부분 추가\n",
    "\n",
    "def gcf(i1, i2):\n",
    "    if i1 < 0 or i2 < 0:\n",
    "        raise ValueError(\"Numbers must be positive.\")\n",
    "    \n",
    "    if i1 == 0:\n",
    "        return i2\n",
    "    if i2 == 0:\n",
    "        return i1\n",
    "    \n",
    "    if i1 > i2:\n",
    "        smaller = i2\n",
    "    else:\n",
    "        smaller = i1\n",
    "\n",
    "    for divisor in range(1, smaller + 1):\n",
    "        if(i1 % divisor == 0) and (i2 % divisor == 0):\n",
    "            gcf = divisor\n",
    "\n",
    "    return gcf\n",
    "\n",
    "print(gcf(-3, 12))"
   ]
  },
  {
   "cell_type": "markdown",
   "metadata": {},
   "source": [
    "## 유클리드 알고리즘\n",
    "\n",
    "x % y = 나머지1\n",
    "\n",
    "y % 나머지1 = 나머지2\n",
    "\n",
    "나머지1 % 나머지2 = 나머지3\n",
    "\n",
    "*** 나머지가 0이 될 때 까지 반복\n",
    "\n",
    "예시 : 20과 12의 최대공약수는?\n",
    "\n",
    "  20 % 12 = 8\n",
    "\n",
    "  12 % 8 = 4\n",
    "\n",
    "  8 % 4 = 0    --> 4가 최대공약수"
   ]
  },
  {
   "cell_type": "code",
   "execution_count": null,
   "metadata": {},
   "outputs": [],
   "source": [
    "def gcf(x, y):\n",
    "    if y ==0:   \n",
    "        \n",
    "        # y이 0이면 두 변수의 값을 바꿔 에러 방지\n",
    "        x, y = y, x\n",
    "    \n",
    "    while y != 0:  \n",
    "        \n",
    "        # y가 0이 될 때 까지 반복\n",
    "        x, y = y, x % y\n",
    "    \n",
    "    return x  \n",
    "    # x % y 가 0 이면 x 반환"
   ]
  },
  {
   "cell_type": "markdown",
   "metadata": {},
   "source": [
    "## 소수\n",
    "\n",
    "- 자기 자신과 1으로만 나누어떨어지는 양의 정수\n",
    "  - 2, 3, 5, 7, 11 ...\n",
    "\n",
    "소수인지 소수가 아닌지 판단하는 함수"
   ]
  },
  {
   "cell_type": "code",
   "execution_count": null,
   "metadata": {},
   "outputs": [],
   "source": [
    "def is_prime(n):\n",
    "\n",
    "    # 2부터 n까지의 모든 숫자를 거쳐 반복 소수도 1로 나눌 수 있기 때문에 2로 시작해서 n-1 까지 반복\n",
    "    for i in range(2, n):\n",
    "\n",
    "        # n % i 했을 때 나머지가 있는지 확인 \n",
    "        if n % i == 0:\n",
    "\n",
    "            # 나머지 있으면 False 반환\n",
    "            return False\n",
    "    \n",
    "    # 약수를 찾지 못한 채 루프를 종료했다면 소수이므로 True 반환\n",
    "    return True\n",
    "\n",
    "\n",
    "\n",
    "## 다른 방법\n",
    "\n",
    "import math\n",
    "\n",
    "def is_prime(n):\n",
    "    for i in range(2, int(math.sqrt(n)) + 1):\n",
    "        if n % i == 0:\n",
    "            return False\n",
    "        \n",
    "    return True\n",
    "\n",
    "\n",
    "## 일정한 범위 안에서 모든 소수를 출력하는 프로그램\n",
    "\n",
    "def find_primes(n):\n",
    "\n",
    "    # 2부터 n까지의 범위에서 is_prime 함수가 True를 반환하는 숫자만 걸러냄\n",
    "    return [i for i in range(2,n) if is_prime(i)]\n"
   ]
  }
 ],
 "metadata": {
  "kernelspec": {
   "display_name": "Python 3",
   "language": "python",
   "name": "python3"
  },
  "language_info": {
   "codemirror_mode": {
    "name": "ipython",
    "version": 3
   },
   "file_extension": ".py",
   "mimetype": "text/x-python",
   "name": "python",
   "nbconvert_exporter": "python",
   "pygments_lexer": "ipython3",
   "version": "3.9.13"
  }
 },
 "nbformat": 4,
 "nbformat_minor": 2
}
